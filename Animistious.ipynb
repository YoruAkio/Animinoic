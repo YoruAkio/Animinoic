{
  "nbformat": 4,
  "nbformat_minor": 0,
  "metadata": {
    "colab": {
      "provenance": []
    },
    "kernelspec": {
      "name": "python3",
      "display_name": "Python 3"
    },
    "language_info": {
      "name": "python"
    },
    "accelerator": "GPU",
    "gpuClass": "standard"
  },
  "cells": [
    {
      "cell_type": "code",
      "execution_count": null,
      "metadata": {
        "id": "rYMxk8TavFQS"
      },
      "outputs": [],
      "source": [
        "#@title Installing required components\n",
        "!pip install diffusers transformers scipy ftfy spacy"
      ]
    },
    {
      "cell_type": "code",
      "source": [
        "#@title Running Animistious\n",
        "from diffusers import DiffusionPipeline, DPMSolverMultistepScheduler\n",
        "import torch\n",
        "\n",
        "repo_id = \"YoruAkio/Animitious\"\n",
        "\n",
        "pipe = DiffusionPipeline.from_pretrained(repo_id, torch_dtype=torch.float16)\n",
        "pipe.scheduler = DPMSolverMultistepScheduler.from_config(pipe.scheduler.config)\n",
        "pipe = pipe.to(\"cuda\")\n",
        "\n",
        "prompt = \"1girl, animal ears, genshin impact, black jacket, smile, blush, brown hair, cat ears, cat girl, cat tail, closed mouth, commentary request, cropped torso, grey background, hair between eyes, halo, highres, jacket, looking at viewer, medium hair, naga u, red eyes, short sleeves, masterpiece, absurdres\"\n",
        "\n",
        "image = pipe(prompt, num_inference_steps=25).images[0]\n",
        "image.save(\"animistious.png\")\n",
        "image"
      ],
      "metadata": {
        "id": "szHiR04IvSp7"
      },
      "execution_count": null,
      "outputs": []
    }
  ]
}