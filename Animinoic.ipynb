{
    "cells": [
        {
            "cell_type": "code",
            "execution_count": null,
            "metadata": {
                "id": "rYMxk8TavFQS"
            },
            "outputs": [],
            "source": [
                "#@title Installing required components\n",
                "!pip install diffusers transformers scipy ftfy spacy"
            ]
        },
        {
            "cell_type": "code",
            "execution_count": null,
            "metadata": {
                "id": "szHiR04IvSp7"
            },
            "outputs": [],
            "source": [
                "#@title Running Animinoic\n",
                "from diffusers import DiffusionPipeline, DPMSolverMultistepScheduler\n",
                "import torch\n",
                "\n",
                "repo_id = \"YoruAkio/Animinoic\"\n",
                "\n",
                "pipe = DiffusionPipeline.from_pretrained(repo_id, torch_dtype=torch.float16)\n",
                "pipe.scheduler = DPMSolverMultistepScheduler.from_config(pipe.scheduler.config)\n",
                "pipe = pipe.to(\"cuda\")\n",
                "\n",
                "prompt = \"girl, cat ears, blonde hair, brown hoodie, smile, blush, cat girl, cat tails, close mouth\"\n",
                "\n",
                "image = pipe(prompt, num_inference_steps=25).images[0]\n",
                "image.save(\"Animinoic.png\")\n",
                "image"
            ]
        }
    ],
    "metadata": {
        "accelerator": "GPU",
        "colab": {
            "provenance": []
        },
        "gpuClass": "standard",
        "kernelspec": {
            "display_name": "Python 3",
            "name": "python3"
        },
        "language_info": {
            "name": "python"
        }
    },
    "nbformat": 4,
    "nbformat_minor": 0
}
